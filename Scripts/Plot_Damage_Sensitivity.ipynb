{
 "cells": [
  {
   "cell_type": "markdown",
   "metadata": {},
   "source": [
    "# Sensitivity analysis of damages calculations\n",
    "#### Christopher Callahan\n",
    "#### Christopher.W.Callahan.GR@dartmouth.edu"
   ]
  },
  {
   "cell_type": "markdown",
   "metadata": {},
   "source": [
    "#### Mechanics\n",
    "Dependencies"
   ]
  },
  {
   "cell_type": "code",
   "execution_count": 2,
   "metadata": {},
   "outputs": [],
   "source": [
    "import xarray as xr\n",
    "import numpy as np\n",
    "import sys\n",
    "import os\n",
    "import datetime\n",
    "import pandas as pd\n",
    "import matplotlib.pyplot as plt\n",
    "from matplotlib import rcParams\n",
    "import matplotlib.colors as colors\n",
    "import matplotlib.gridspec as gridspec\n",
    "import seaborn as sns\n",
    "from rasterio import features\n",
    "from affine import Affine\n",
    "import geopandas as gp\n",
    "import descartes\n",
    "import cartopy as cart\n",
    "import cartopy.crs as ccrs\n",
    "from cartopy.feature import ShapelyFeature\n",
    "from functools import reduce\n",
    "import matplotlib.patches as mpatches\n",
    "from scipy import stats\n",
    "import statsmodels.api as sm\n",
    "from statsmodels.formula.api import ols as reg"
   ]
  },
  {
   "cell_type": "markdown",
   "metadata": {},
   "source": [
    "Location"
   ]
  },
  {
   "cell_type": "code",
   "execution_count": 3,
   "metadata": {},
   "outputs": [],
   "source": [
    "loc_enso = \"../Data/ENSO_Indices/CMIP6/\"\n",
    "loc_damages = \"../Data/Damages/\" \n",
    "loc_tc = \"../Data/Teleconnections/CMIP6/\""
   ]
  },
  {
   "cell_type": "markdown",
   "metadata": {},
   "source": [
    "Years"
   ]
  },
  {
   "cell_type": "code",
   "execution_count": 4,
   "metadata": {},
   "outputs": [],
   "source": [
    "y1 = 2020\n",
    "y2 = 2099"
   ]
  },
  {
   "cell_type": "markdown",
   "metadata": {},
   "source": [
    "Warning"
   ]
  },
  {
   "cell_type": "code",
   "execution_count": 5,
   "metadata": {},
   "outputs": [],
   "source": [
    "import warnings\n",
    "warnings.filterwarnings(\"ignore\",category=FutureWarning,message=\"'base' in .resample\")"
   ]
  },
  {
   "cell_type": "markdown",
   "metadata": {},
   "source": [
    "#### Analysis"
   ]
  },
  {
   "cell_type": "markdown",
   "metadata": {},
   "source": [
    "Read E-index and damages"
   ]
  },
  {
   "cell_type": "code",
   "execution_count": 6,
   "metadata": {},
   "outputs": [],
   "source": [
    "exps = [\"ssp126\",\"ssp245\",\"ssp370\",\"ssp585\"]"
   ]
  },
  {
   "cell_type": "code",
   "execution_count": 7,
   "metadata": {},
   "outputs": [],
   "source": [
    "persist = \"partial\""
   ]
  },
  {
   "cell_type": "code",
   "execution_count": 8,
   "metadata": {},
   "outputs": [
    {
     "name": "stdout",
     "output_type": "stream",
     "text": [
      "ssp126\n",
      "ssp245\n",
      "ssp370\n",
      "ssp585\n"
     ]
    }
   ],
   "source": [
    "for e in exps:\n",
    "    print(e)\n",
    "    \n",
    "    enso_models = np.array([m.split(\"_\")[0]+\"_\"+m.split(\"_\")[1] for m in sorted(os.listdir(loc_enso)) if e in m])\n",
    "    enso_files = np.array([loc_enso+m for m in sorted(os.listdir(loc_enso)) if e in m])\n",
    "    enso_ds = xr.open_mfdataset(enso_files,concat_dim=\"model\",combine=\"nested\")\n",
    "    enso_ds.coords[\"model\"] = enso_models\n",
    "    alphas = enso_ds.alpha.load()\n",
    "    alpha_threshold = -0.17 # half the obs value of -0.34\n",
    "    e_index = enso_ds.e_index.load()\n",
    "    c_index = enso_ds.c_index.load()\n",
    "    e_shift = e_index.shift(time=1)\n",
    "    e_djf = e_shift[:,e_shift.time.dt.month<=3].resample(time=\"YS\").mean(dim=\"time\")\n",
    "    e_djf.coords[\"time\"] = e_djf.time.dt.year.values\n",
    "    \n",
    "    models = np.array([m.split(\"_\")[0]+\"_\"+m.split(\"_\")[1] for m in sorted(os.listdir(loc_tc)) if (e in m)&(\"teleconnections_1940\" in m)])\n",
    "    models_files = np.array([loc_tc+m for m in sorted(os.listdir(loc_tc)) if (e in m)&(\"teleconnections_1940\" in m)])\n",
    "    tc_ds = xr.open_mfdataset(models_files,concat_dim=\"model\",combine=\"nested\")\n",
    "    tc_ds.coords[\"model\"] = models\n",
    "    tc_corr = tc_ds.teleconnections_corr_running.sel(index=\"e\").load()\n",
    "    \n",
    "    if e==\"ssp126\":\n",
    "        damages_e_126 = xr.open_dataset(loc_damages+\"CMIP6_Eindex_damages_amplitude_teleconnections_\"+e+\"_main_\"+persist+\"persistence_\"+str(y1)+\"-\"+str(y2)+\".nc\")\n",
    "        e_126 = e_djf.loc[damages_e_126.model.values,:]\n",
    "        tc_change_126 = tc_corr.loc[damages_e_126.model.values,\"future\",:] - tc_corr.loc[damages_e_126.model.values,\"hist\",:]\n",
    "        tc_change_126_pct = 100*tc_change_126/tc_corr.loc[damages_e_126.model.values,\"hist\",:]\n",
    "    elif e==\"ssp245\":\n",
    "        damages_e_245 = xr.open_dataset(loc_damages+\"CMIP6_Eindex_damages_amplitude_teleconnections_\"+e+\"_main_\"+persist+\"persistence_\"+str(y1)+\"-\"+str(y2)+\".nc\")\n",
    "        e_245 = e_djf.loc[damages_e_245.model.values,:]\n",
    "        tc_change_245 = tc_corr.loc[damages_e_245.model.values,\"future\",:] - tc_corr.loc[damages_e_245.model.values,\"hist\",:]\n",
    "        tc_change_245_pct = 100*tc_change_245/tc_corr.loc[damages_e_245.model.values,\"hist\",:]\n",
    "    elif e==\"ssp370\":\n",
    "        damages_e_370 = xr.open_dataset(loc_damages+\"CMIP6_Eindex_damages_amplitude_teleconnections_\"+e+\"_main_\"+persist+\"persistence_\"+str(y1)+\"-\"+str(y2)+\".nc\")\n",
    "        e_370 = e_djf.loc[damages_e_370.model.values,:]\n",
    "        tc_change_370 = tc_corr.loc[damages_e_370.model.values,\"future\",:] - tc_corr.loc[damages_e_370.model.values,\"hist\",:]\n",
    "        tc_change_370_pct = 100*tc_change_370/tc_corr.loc[damages_e_370.model.values,\"hist\",:]\n",
    "    elif e==\"ssp585\":\n",
    "        damages_e_585 = xr.open_dataset(loc_damages+\"CMIP6_Eindex_damages_amplitude_teleconnections_\"+e+\"_main_\"+persist+\"persistence_\"+str(y1)+\"-\"+str(y2)+\".nc\")\n",
    "        e_585 = e_djf.loc[damages_e_585.model.values,:]\n",
    "        tc_change_585 = tc_corr.loc[damages_e_585.model.values,\"future\",:] - tc_corr.loc[damages_e_585.model.values,\"hist\",:]\n",
    "        tc_change_585_pct = 100*tc_change_585/tc_corr.loc[damages_e_585.model.values,\"hist\",:]"
   ]
  },
  {
   "cell_type": "code",
   "execution_count": 9,
   "metadata": {},
   "outputs": [],
   "source": [
    "amp_change_126 = 100*(e_126.loc[:,2020:2099].std(dim=\"time\") - e_126.loc[:,1940:2019].std(dim=\"time\"))/e_126.loc[:,1940:2019].std(dim=\"time\")\n",
    "amp_change_245 = 100*(e_245.loc[:,2020:2099].std(dim=\"time\") - e_245.loc[:,1940:2019].std(dim=\"time\"))/e_245.loc[:,1940:2019].std(dim=\"time\")\n",
    "amp_change_370 = 100*(e_370.loc[:,2020:2099].std(dim=\"time\") - e_370.loc[:,1940:2019].std(dim=\"time\"))/e_370.loc[:,1940:2019].std(dim=\"time\")\n",
    "amp_change_585 = 100*(e_585.loc[:,2020:2099].std(dim=\"time\") - e_585.loc[:,1940:2019].std(dim=\"time\"))/e_585.loc[:,1940:2019].std(dim=\"time\")\n",
    "amp_change_126_raw = e_126.loc[:,2020:2099].std(dim=\"time\") - e_126.loc[:,1940:2019].std(dim=\"time\")\n",
    "amp_change_245_raw = e_245.loc[:,2020:2099].std(dim=\"time\") - e_245.loc[:,1940:2019].std(dim=\"time\")\n",
    "amp_change_370_raw = e_370.loc[:,2020:2099].std(dim=\"time\") - e_370.loc[:,1940:2019].std(dim=\"time\")\n",
    "amp_change_585_raw = e_585.loc[:,2020:2099].std(dim=\"time\") - e_585.loc[:,1940:2019].std(dim=\"time\")"
   ]
  },
  {
   "cell_type": "code",
   "execution_count": 10,
   "metadata": {},
   "outputs": [],
   "source": [
    "y1_e_sum = 2020\n",
    "y2_e_sum = 2099\n",
    "e_126_future = e_126.loc[:,y1:y2] #- e_126.loc[:,y1:y2].mean()\n",
    "e_245_future = e_245.loc[:,y1:y2] #- e_245.loc[:,y1:y2].mean()\n",
    "e_370_future = e_370.loc[:,y1:y2] #- e_370.loc[:,y1:y2].mean()\n",
    "e_585_future = e_585.loc[:,y1:y2] #- e_585.loc[:,y1:y2].mean()\n",
    "e_sum_126 = e_126_future.loc[:,y1_e_sum:y2_e_sum].sum(dim=\"time\")\n",
    "e_sum_245 = e_245_future.loc[:,y1_e_sum:y2_e_sum].sum(dim=\"time\")\n",
    "e_sum_370 = e_370_future.loc[:,y1_e_sum:y2_e_sum].sum(dim=\"time\")\n",
    "e_sum_585 = e_585_future.loc[:,y1_e_sum:y2_e_sum].sum(dim=\"time\")"
   ]
  },
  {
   "cell_type": "markdown",
   "metadata": {},
   "source": [
    "skewness"
   ]
  },
  {
   "cell_type": "code",
   "execution_count": 11,
   "metadata": {},
   "outputs": [],
   "source": [
    "e_skew_126 = np.zeros(len(e_sum_126))\n",
    "e_skew_245 = np.zeros(len(e_sum_245))\n",
    "e_skew_370 = np.zeros(len(e_sum_370))\n",
    "e_skew_585 = np.zeros(len(e_sum_585))\n",
    "for i in np.arange(0,len(e_sum_126),1):\n",
    "    e_skew_126[i] = stats.skew(e_126_future[i,:].loc[y1_e_sum:y2_e_sum].values)\n",
    "for i in np.arange(0,len(e_sum_245),1):\n",
    "    e_skew_245[i] = stats.skew(e_245_future[i,:].loc[y1_e_sum:y2_e_sum].values)\n",
    "for i in np.arange(0,len(e_sum_370),1):\n",
    "    e_skew_370[i] = stats.skew(e_370_future[i,:].loc[y1_e_sum:y2_e_sum].values)\n",
    "for i in np.arange(0,len(e_sum_585),1):\n",
    "    e_skew_585[i] = stats.skew(e_585_future[i,:].loc[y1_e_sum:y2_e_sum].values)"
   ]
  },
  {
   "cell_type": "markdown",
   "metadata": {},
   "source": [
    "Discounted damages"
   ]
  },
  {
   "cell_type": "code",
   "execution_count": 12,
   "metadata": {},
   "outputs": [],
   "source": [
    "rates = np.array([0.01,0.02,0.03,0.05])\n",
    "time = np.arange(y1,y2+1,1)\n",
    "dfact = xr.DataArray(np.zeros((len(rates),len(time))),\n",
    "                     coords=[rates,time],dims=[\"rate\",\"time\"])\n",
    "for r in rates:\n",
    "    dfact.loc[r,:] = np.exp(-1*r*(time-np.amin(time)))"
   ]
  },
  {
   "cell_type": "code",
   "execution_count": 13,
   "metadata": {},
   "outputs": [],
   "source": [
    "damages_e_plot_126 = (damages_e_126.gdp_change_global*dfact).sum(dim=\"time\")/1e12\n",
    "damages_e_plot_245 = (damages_e_245.gdp_change_global*dfact).sum(dim=\"time\")/1e12\n",
    "damages_e_plot_370 = (damages_e_370.gdp_change_global*dfact).sum(dim=\"time\")/1e12\n",
    "damages_e_plot_585 = (damages_e_585.gdp_change_global*dfact).sum(dim=\"time\")/1e12"
   ]
  },
  {
   "cell_type": "code",
   "execution_count": 14,
   "metadata": {},
   "outputs": [],
   "source": [
    "damages_126_median = damages_e_plot_126.sel(rate=0.02).median(dim=[\"boot\"])\n",
    "damages_245_median = damages_e_plot_245.sel(rate=0.02).median(dim=[\"boot\"])\n",
    "damages_370_median = damages_e_plot_370.sel(rate=0.02).median(dim=[\"boot\"])\n",
    "damages_585_median = damages_e_plot_585.sel(rate=0.02).median(dim=[\"boot\"])"
   ]
  },
  {
   "cell_type": "code",
   "execution_count": 15,
   "metadata": {},
   "outputs": [],
   "source": [
    "ssp_gdp_126_sum = (damages_e_126.ssp_gdp*dfact).sum(dim=[\"iso\",\"time\"]).sel(rate=0.02)/1e12\n",
    "ssp_gdp_245_sum = (damages_e_245.ssp_gdp*dfact).sum(dim=[\"iso\",\"time\"]).sel(rate=0.02)/1e12\n",
    "ssp_gdp_370_sum = (damages_e_370.ssp_gdp*dfact).sum(dim=[\"iso\",\"time\"]).sel(rate=0.02)/1e12\n",
    "ssp_gdp_585_sum = (damages_e_585.ssp_gdp*dfact).sum(dim=[\"iso\",\"time\"]).sel(rate=0.02)/1e12"
   ]
  },
  {
   "cell_type": "markdown",
   "metadata": {},
   "source": [
    "Read C-index damages"
   ]
  },
  {
   "cell_type": "code",
   "execution_count": 16,
   "metadata": {},
   "outputs": [
    {
     "name": "stdout",
     "output_type": "stream",
     "text": [
      "ssp126\n",
      "ssp245\n",
      "ssp370\n",
      "ssp585\n"
     ]
    }
   ],
   "source": [
    "for e in exps:\n",
    "    print(e)\n",
    "\n",
    "    if e==\"ssp126\":\n",
    "        damages_c_126 = xr.open_dataset(loc_damages+\"CMIP6_Cindex_damages_amplitude_teleconnections_\"+e+\"_main_\"+persist+\"persistence_\"+str(y1)+\"-\"+str(y2)+\".nc\")\n",
    "    elif e==\"ssp245\":\n",
    "        damages_c_245 = xr.open_dataset(loc_damages+\"CMIP6_Cindex_damages_amplitude_teleconnections_\"+e+\"_main_\"+persist+\"persistence_\"+str(y1)+\"-\"+str(y2)+\".nc\")\n",
    "    elif e==\"ssp370\":\n",
    "        damages_c_370 = xr.open_dataset(loc_damages+\"CMIP6_Cindex_damages_amplitude_teleconnections_\"+e+\"_main_\"+persist+\"persistence_\"+str(y1)+\"-\"+str(y2)+\".nc\")\n",
    "    elif e==\"ssp585\":\n",
    "        damages_c_585 = xr.open_dataset(loc_damages+\"CMIP6_Cindex_damages_amplitude_teleconnections_\"+e+\"_main_\"+persist+\"persistence_\"+str(y1)+\"-\"+str(y2)+\".nc\")"
   ]
  },
  {
   "cell_type": "code",
   "execution_count": 17,
   "metadata": {},
   "outputs": [],
   "source": [
    "damages_c_plot_126 = (damages_c_126.gdp_change_global*dfact).sum(dim=\"time\")/1e12\n",
    "damages_c_plot_245 = (damages_c_245.gdp_change_global*dfact).sum(dim=\"time\")/1e12\n",
    "damages_c_plot_370 = (damages_c_370.gdp_change_global*dfact).sum(dim=\"time\")/1e12\n",
    "damages_c_plot_585 = (damages_c_585.gdp_change_global*dfact).sum(dim=\"time\")/1e12"
   ]
  },
  {
   "cell_type": "code",
   "execution_count": 18,
   "metadata": {},
   "outputs": [],
   "source": [
    "damages_both_plot_126 = damages_e_plot_126 + damages_c_plot_126\n",
    "damages_both_plot_245 = damages_e_plot_245 + damages_c_plot_245\n",
    "damages_both_plot_370 = damages_e_plot_370 + damages_c_plot_370\n",
    "damages_both_plot_585 = damages_e_plot_585 + damages_c_plot_585"
   ]
  },
  {
   "cell_type": "markdown",
   "metadata": {},
   "source": [
    "Now damages without teleconnection change"
   ]
  },
  {
   "cell_type": "code",
   "execution_count": 19,
   "metadata": {},
   "outputs": [
    {
     "name": "stdout",
     "output_type": "stream",
     "text": [
      "ssp126\n",
      "ssp245\n",
      "ssp370\n",
      "ssp585\n"
     ]
    }
   ],
   "source": [
    "for e in exps:\n",
    "    print(e)\n",
    "\n",
    "    if e==\"ssp126\":\n",
    "        damages_notc_126 = xr.open_dataset(loc_damages+\"CMIP6_Eindex_damages_amplitude_teleconnections_\"+e+\"_notcchange_\"+persist+\"persistence_\"+str(y1)+\"-\"+str(y2)+\".nc\")\n",
    "    elif e==\"ssp245\":\n",
    "        damages_notc_245 = xr.open_dataset(loc_damages+\"CMIP6_Eindex_damages_amplitude_teleconnections_\"+e+\"_notcchange_\"+persist+\"persistence_\"+str(y1)+\"-\"+str(y2)+\".nc\")\n",
    "    elif e==\"ssp370\":\n",
    "        damages_notc_370 = xr.open_dataset(loc_damages+\"CMIP6_Eindex_damages_amplitude_teleconnections_\"+e+\"_notcchange_\"+persist+\"persistence_\"+str(y1)+\"-\"+str(y2)+\".nc\")\n",
    "    elif e==\"ssp585\":\n",
    "        damages_notc_585 = xr.open_dataset(loc_damages+\"CMIP6_Eindex_damages_amplitude_teleconnections_\"+e+\"_notcchange_\"+persist+\"persistence_\"+str(y1)+\"-\"+str(y2)+\".nc\")"
   ]
  },
  {
   "cell_type": "code",
   "execution_count": 20,
   "metadata": {},
   "outputs": [],
   "source": [
    "damages_notc_126_sum = (damages_notc_126.gdp_change_global*dfact).sum(dim=\"time\")/1e12\n",
    "damages_126_notc_median = damages_notc_126_sum.median(dim=\"boot\").sel(rate=0.02)\n",
    "damages_notc_245_sum = (damages_notc_245.gdp_change_global*dfact).sum(dim=\"time\")/1e12\n",
    "damages_245_notc_median = damages_notc_245_sum.median(dim=\"boot\").sel(rate=0.02)\n",
    "damages_notc_370_sum = (damages_notc_370.gdp_change_global*dfact).sum(dim=\"time\")/1e12\n",
    "damages_370_notc_median = damages_notc_370_sum.median(dim=\"boot\").sel(rate=0.02)\n",
    "damages_notc_585_sum = (damages_notc_585.gdp_change_global*dfact).sum(dim=\"time\")/1e12\n",
    "damages_585_notc_median = damages_notc_585_sum.median(dim=\"boot\").sel(rate=0.02)"
   ]
  },
  {
   "cell_type": "markdown",
   "metadata": {},
   "source": [
    "Damages with full persistence"
   ]
  },
  {
   "cell_type": "code",
   "execution_count": 21,
   "metadata": {},
   "outputs": [
    {
     "name": "stdout",
     "output_type": "stream",
     "text": [
      "ssp126\n",
      "ssp245\n",
      "ssp370\n",
      "ssp585\n"
     ]
    }
   ],
   "source": [
    "for e in exps:\n",
    "    print(e)\n",
    "\n",
    "    if e==\"ssp126\":\n",
    "        damages_fullpersist_126 = xr.open_dataset(loc_damages+\"CMIP6_Eindex_damages_amplitude_teleconnections_\"+e+\"_main_fullpersistence_\"+str(y1)+\"-\"+str(y2)+\".nc\")\n",
    "    elif e==\"ssp245\":\n",
    "        damages_fullpersist_245 = xr.open_dataset(loc_damages+\"CMIP6_Eindex_damages_amplitude_teleconnections_\"+e+\"_main_fullpersistence_\"+str(y1)+\"-\"+str(y2)+\".nc\")\n",
    "    elif e==\"ssp370\":\n",
    "        damages_fullpersist_370 = xr.open_dataset(loc_damages+\"CMIP6_Eindex_damages_amplitude_teleconnections_\"+e+\"_main_fullpersistence_\"+str(y1)+\"-\"+str(y2)+\".nc\")\n",
    "    elif e==\"ssp585\":\n",
    "        damages_fullpersist_585 = xr.open_dataset(loc_damages+\"CMIP6_Eindex_damages_amplitude_teleconnections_\"+e+\"_main_fullpersistence_\"+str(y1)+\"-\"+str(y2)+\".nc\")"
   ]
  },
  {
   "cell_type": "code",
   "execution_count": 22,
   "metadata": {},
   "outputs": [],
   "source": [
    "damages_e_fullpersist_plot_126 = (damages_fullpersist_126.gdp_change_global*dfact).sum(dim=\"time\")/1e12\n",
    "damages_e_fullpersist_plot_245 = (damages_fullpersist_245.gdp_change_global*dfact).sum(dim=\"time\")/1e12\n",
    "damages_e_fullpersist_plot_370 = (damages_fullpersist_370.gdp_change_global*dfact).sum(dim=\"time\")/1e12\n",
    "damages_e_fullpersist_plot_585 = (damages_fullpersist_585.gdp_change_global*dfact).sum(dim=\"time\")/1e12"
   ]
  },
  {
   "cell_type": "markdown",
   "metadata": {},
   "source": [
    "Just one simulation from each model"
   ]
  },
  {
   "cell_type": "code",
   "execution_count": 24,
   "metadata": {},
   "outputs": [],
   "source": [
    "models_subset_126_1 = [\"MIROC-ES2L_r4i1p1f2\",\"MIROC6_r1i1p1f1\",\"MRI-ESM2-0_r1i1p1f1\"]\n",
    "models_subset_126_2 = [\"MIROC-ES2L_r5i1p1f2\",\"MIROC6_r2i1p1f1\",\"MRI-ESM2-0_r2i1p1f1\"]\n",
    "models_subset_245_1 = [\"CESM2-WACCM_r3i1p1f1\",\"CMCC-CM2-SR5_r1i1p1f1\",\"CMCC-ESM2_r1i1p1f1\",\\\n",
    "                    \"EC-Earth3_r7i1p1f1\",\"MIROC-ES2L_r2i1p1f2\",\"MIROC6_r1i1p1f1\",\\\n",
    "                    \"MPI-ESM1-2-HR_r2i1p1f1\",\"MPI-ESM1-2-LR_r2i1p1f1\",\"NorESM2-MM_r1i1p1f1\"]\n",
    "models_subset_245_2 = [\"CESM2-WACCM_r2i1p1f1\",\"CMCC-CM2-SR5_r1i1p1f1\",\"CMCC-ESM2_r1i1p1f1\",\\\n",
    "                    \"EC-Earth3_r2i1p1f1\",\"MIROC-ES2L_r1i1p1f2\",\"MIROC6_r21i1p1f1\",\\\n",
    "                    \"MPI-ESM1-2-HR_r2i1p1f1\",\"MPI-ESM1-2-LR_r3i1p1f1\",\"NorESM2-MM_r1i1p1f1\"]\n",
    "models_subset_370_1 = [\"CESM2-WACCM_r1i1p1f1\",\"CMCC-CM2-SR5_r1i1p1f1\",\"CMCC-ESM2_r1i1p1f1\",\\\n",
    "                    \"MIROC-ES2L_r1i1p1f2\",\"MIROC6_r1i1p1f1\",\"MPI-ESM1-2-HR_r3i1p1f1\",\\\n",
    "                    \"MPI-ESM1-2-LR_r2i1p1f1\",\"MRI-ESM2-0_r1i1p1f1\",\"NorESM2-LM_r1i1p1f1\",\\\n",
    "                    \"NorESM2-MM_r1i1p1f1\"]\n",
    "models_subset_370_2 = [\"CESM2-WACCM_r1i1p1f1\",\"CMCC-CM2-SR5_r1i1p1f1\",\"CMCC-ESM2_r1i1p1f1\",\\\n",
    "                    \"MIROC-ES2L_r2i1p1f2\",\"MIROC6_r2i1p1f1\",\"MPI-ESM1-2-HR_r5i1p1f1\",\\\n",
    "                    \"MPI-ESM1-2-LR_r3i1p1f1\",\"MRI-ESM2-0_r2i1p1f1\",\"NorESM2-LM_r1i1p1f1\",\\\n",
    "                    \"NorESM2-MM_r1i1p1f1\"]\n",
    "models_subset_585_1 = [\"CESM2-WACCM_r2i1p1f1\",\"CESM2_r4i1p1f1\",\"CMCC-CM2-SR5_r1i1p1f1\",\\\n",
    "                    \"CMCC-ESM2_r1i1p1f1\",\"MIROC-ES2L_r1i1p1f2\",\"MIROC6_r1i1p1f1\",\\\n",
    "                    \"MPI-ESM1-2-HR_r2i1p1f1\",\"NorESM2-LM_r1i1p1f1\",\"NorESM2-MM_r1i1p1f1\"]\n",
    "models_subset_585_2 = [\"CESM2-WACCM_r2i1p1f1\",\"CESM2_r11i1p1f1\",\"CMCC-CM2-SR5_r1i1p1f1\",\\\n",
    "                    \"CMCC-ESM2_r1i1p1f1\",\"MIROC-ES2L_r1i1p1f2\",\"MIROC6_r2i1p1f1\",\\\n",
    "                    \"MPI-ESM1-2-HR_r2i1p1f1\",\"NorESM2-LM_r1i1p1f1\",\"NorESM2-MM_r1i1p1f1\"]"
   ]
  },
  {
   "cell_type": "markdown",
   "metadata": {},
   "source": [
    "Colors"
   ]
  },
  {
   "cell_type": "code",
   "execution_count": 26,
   "metadata": {},
   "outputs": [],
   "source": [
    "scen_cols = [\"sandybrown\",\"salmon\",\"red\",\"darkred\"]\n",
    "scen_names = [\"SSP1-2.6\",\"SSP2-4.5\",\"SSP3-7.0\",\"SSP5-8.5\"]"
   ]
  },
  {
   "cell_type": "markdown",
   "metadata": {},
   "source": [
    "Plot"
   ]
  },
  {
   "cell_type": "code",
   "execution_count": 25,
   "metadata": {},
   "outputs": [
    {
     "data": {
      "image/png": "[encoded data removed]",
      "text/plain": [
       "<Figure size 1584x720 with 4 Axes>"
      ]
     },
     "metadata": {
      "needs_background": "light"
     },
     "output_type": "display_data"
    }
   ],
   "source": [
    "fig = plt.figure(figsize=(22,10))\n",
    "\n",
    "rcParams[\"font.family\"] = \"sans-serif\"\n",
    "rcParams[\"font.sans-serif\"] = [\"Helvetica Neue\"]\n",
    "rcParams[\"font.size\"] = 20.0\n",
    "rcParams['xtick.major.size'] = 8\n",
    "rcParams['xtick.major.width'] = 1.3\n",
    "rcParams['ytick.major.size'] = 8\n",
    "rcParams['ytick.major.width'] = 1.3\n",
    "rcParams[\"mathtext.default\"] = \"regular\"\n",
    "\n",
    "tfs = 22\n",
    "textfs = 16\n",
    "\n",
    "gs1 = gridspec.GridSpec(2,2)\n",
    "gs1.update(left=0.18,right=0.93,top=0.87,bottom=0.15,wspace=0.1,hspace=0.54)\n",
    "\n",
    "for j in [0,1,2,3]:\n",
    "    ax = plt.subplot(gs1[j])\n",
    "    plt.setp(ax.spines.values(), linewidth=1.3)\n",
    "    overall_xlim = [-650,250]\n",
    "\n",
    "    main_drate = 0.02\n",
    "\n",
    "    scenario_pos = [1,2,3,4]\n",
    "    for ee in np.arange(0,len(exps),1):\n",
    "        e = exps[ee]\n",
    "        #print(e)\n",
    "        if j == 0:\n",
    "            if e==\"ssp126\":\n",
    "                damages_box = damages_both_plot_126.sel(rate=main_drate).values.flatten()\n",
    "            elif e==\"ssp245\":\n",
    "                damages_box = damages_both_plot_245.sel(rate=main_drate).values.flatten()\n",
    "            elif e==\"ssp370\":\n",
    "                damages_box = damages_both_plot_370.sel(rate=main_drate).values.flatten()\n",
    "            elif e==\"ssp585\":\n",
    "                damages_box = damages_both_plot_585.sel(rate=main_drate).values.flatten()\n",
    "            xlim = [-650,250]\n",
    "        elif j == 1:\n",
    "            if e==\"ssp126\":\n",
    "                damages_box = damages_e_plot_126.loc[:,models_subset_126_1,main_drate].values.flatten()\n",
    "            elif e==\"ssp245\":\n",
    "                damages_box = damages_e_plot_245.loc[:,models_subset_245_1,main_drate].values.flatten()\n",
    "            elif e==\"ssp370\":\n",
    "                damages_box = damages_e_plot_370.loc[:,models_subset_370_1,main_drate].values.flatten()\n",
    "            elif e==\"ssp585\":\n",
    "                damages_box = damages_e_plot_585.loc[:,models_subset_585_1,main_drate].values.flatten()\n",
    "            xlim = [-650,250]\n",
    "        elif j == 2:\n",
    "            if e==\"ssp126\":\n",
    "                damages_box = damages_notc_126_sum.sel(rate=main_drate).values.flatten()\n",
    "                #print(np.nanmedian(damages_box))\n",
    "            elif e==\"ssp245\":\n",
    "                damages_box = damages_notc_245_sum.sel(rate=main_drate).values.flatten()\n",
    "                #print(np.nanmedian(damages_box))\n",
    "            elif e==\"ssp370\":\n",
    "                damages_box = damages_notc_370_sum.sel(rate=main_drate).values.flatten()\n",
    "                #print(np.nanmedian(damages_box))\n",
    "            elif e==\"ssp585\":\n",
    "                damages_box = damages_notc_585_sum.sel(rate=main_drate).values.flatten()\n",
    "                #print(np.nanmedian(damages_box))\n",
    "            xlim = [-650,250]\n",
    "        elif j == 3:\n",
    "            if e==\"ssp126\":\n",
    "                damages_box = damages_e_fullpersist_plot_126.sel(rate=main_drate).values.flatten()\n",
    "            elif e==\"ssp245\":\n",
    "                damages_box = damages_e_fullpersist_plot_245.sel(rate=main_drate).values.flatten()\n",
    "            elif e==\"ssp370\":\n",
    "                damages_box = damages_e_fullpersist_plot_370.sel(rate=main_drate).values.flatten()\n",
    "            elif e==\"ssp585\":\n",
    "                damages_box = damages_e_fullpersist_plot_585.sel(rate=main_drate).values.flatten()\n",
    "            xlim = [-2500,1500]\n",
    "            \n",
    "        b1 = plt.boxplot(damages_box,sym=\"\",widths=0.8,\n",
    "                    vert=False,positions=[scenario_pos[ee]],\n",
    "                        showcaps=False,patch_artist=True)\n",
    "        for m in range(0,2,1):\n",
    "            if m == 0:\n",
    "                b1[\"boxes\"][m].set(color=scen_cols[ee],linewidth=2)\n",
    "                b1[\"medians\"][m].set(color=\"white\",linewidth=2)\n",
    "                b1[\"medians\"][m].set(color=\"white\",linewidth=2)\n",
    "            b1[\"whiskers\"][m].set(color=scen_cols[ee],linewidth=2)\n",
    "\n",
    "        medn = np.median(damages_box)\n",
    "        if medn<0:\n",
    "            lb = r\"$-$\"+str(int(np.around(np.abs(medn))))+\"T\"\n",
    "        else:\n",
    "            lb = str(int(np.around(medn)))+\"T\"\n",
    "        #plt.text(790,scenario_pos[ee]-0.2,lb,fontsize=textfs,\n",
    "        #        color=scen_cols[ee])\n",
    "        \n",
    "    plt.xlim(xlim)\n",
    "    plt.xlabel(\"Cumulative global GDP change ($US tril)\")\n",
    "    plt.axvline(x=0,linewidth=1.3,color=\"black\",linestyle=\"--\",zorder=1)\n",
    "    lbs = [\"SSP1-2.6\",\"SSP2-4.5\",\"SSP3-7.0\",\"SSP5-8.5\"]\n",
    "    if (j == 0)|(j==2):\n",
    "        plt.yticks(ticks=scenario_pos,labels=lbs)\n",
    "    else:\n",
    "        plt.yticks(ticks=scenario_pos,labels=[])\n",
    "    \n",
    "    if j == 0:\n",
    "        plt.title(\"Damages from combined E- and C-index change\",fontsize=tfs,pad=10)\n",
    "    elif j == 1:\n",
    "        plt.title(\"Damages from one realization per model\",fontsize=tfs,pad=10)\n",
    "    elif j == 2:\n",
    "        plt.title(\"Damages holding teleconnections constant\",fontsize=tfs,pad=10)\n",
    "    elif j == 3:\n",
    "        plt.title(\"Damages with full persistence\",fontsize=tfs,pad=10)\n",
    "        \n",
    "plt.figtext(0.17,0.91,r'$\\bf{a}$',fontsize=28)\n",
    "plt.figtext(0.56,0.91,r'$\\bf{b}$',fontsize=28)\n",
    "plt.figtext(0.17,0.47,r'$\\bf{c}$',fontsize=28)\n",
    "plt.figtext(0.56,0.47,r'$\\bf{d}$',fontsize=28)\n",
    "\n",
    "\n",
    "plt.savefig(\"../Figures/FigX_Damage_Sensitivity.pdf\")\n",
    "plt.show()"
   ]
  }
 ],
 "metadata": {
  "kernelspec": {
   "display_name": "Python ccallahan",
   "language": "python",
   "name": "ccallahan"
  },
  "language_info": {
   "codemirror_mode": {
    "name": "ipython",
    "version": 3
   },
   "file_extension": ".py",
   "mimetype": "text/x-python",
   "name": "python",
   "nbconvert_exporter": "python",
   "pygments_lexer": "ipython3",
   "version": "3.7.3"
  }
 },
 "nbformat": 4,
 "nbformat_minor": 2
}
